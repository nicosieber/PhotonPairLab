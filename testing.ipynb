{
 "cells": [
  {
   "cell_type": "markdown",
   "id": "55eef716",
   "metadata": {},
   "source": [
    "### Testing refractive index and group index functions with material dependency"
   ]
  },
  {
   "cell_type": "code",
   "execution_count": 1,
   "id": "938415a7",
   "metadata": {},
   "outputs": [
    {
     "name": "stdout",
     "output_type": "stream",
     "text": [
      "Comparing refractive indices:\n",
      "New refractive index (y-axis): 1.7583237454267422\n",
      "Old refractive index (y-axis): 1.7583237454267422\n",
      "Difference: 0.000000e+00\n",
      "New refractive index (z-axis): 1.847429042084237\n",
      "Old refractive index (z-axis): 1.847429042084237\n",
      "Difference: 0.000000e+00\n",
      "\n",
      "Comparing group indices:\n",
      "New group index (y-axis): 1.8111063281764919\n",
      "Old group index (y-axis): 1.8111230988977176\n",
      "Difference: 1.677072e-05\n",
      "New group index (z-axis): 1.9184922171275876\n",
      "Old group index (z-axis): 1.9185238231500081\n",
      "Difference: 3.160602e-05\n"
     ]
    }
   ],
   "source": [
    "from Materials import Materials\n",
    "from Crystal import Crystal\n",
    "\n",
    "# Initialize the Materials database\n",
    "materials_db = Materials()\n",
    "\n",
    "# Initialize the Crystal\n",
    "Lc = 46.175e-6  # Coherence length (in meters)\n",
    "Lo = 30e-3      # Crystal length (in meters)\n",
    "T = 28.35       # Temperature (in degrees Celsius)\n",
    "w = 18e-6       # Domain width parameter (in meters)\n",
    "mstart = 2      # Starting index for the algorithm\n",
    "crystal = Crystal(Lc, Lo, T, w, mstart, materials_db)\n",
    "\n",
    "# Define the wavelength for comparison\n",
    "wavelength = 0.775  # in micrometers\n",
    "\n",
    "# Compare refractive indices\n",
    "print(\"Comparing refractive indices:\")\n",
    "n_y_new = crystal.refractive_index(wavelength, \"KTP\", \"y\")\n",
    "n_y_old = crystal.refractive_index_y(wavelength)\n",
    "print(f\"New refractive index (y-axis): {n_y_new}\")\n",
    "print(f\"Old refractive index (y-axis): {n_y_old}\")\n",
    "print(f\"Difference: {abs(n_y_new - n_y_old):.6e}\")\n",
    "\n",
    "n_z_new = crystal.refractive_index(wavelength, \"KTP\", \"z\")\n",
    "n_z_old = crystal.refractive_index_z(wavelength)\n",
    "print(f\"New refractive index (z-axis): {n_z_new}\")\n",
    "print(f\"Old refractive index (z-axis): {n_z_old}\")\n",
    "print(f\"Difference: {abs(n_z_new - n_z_old):.6e}\")\n",
    "\n",
    "# Compare group indices\n",
    "print(\"\\nComparing group indices:\")\n",
    "n_g_y_new = crystal.group_index(wavelength, \"KTP\", \"y\")\n",
    "n_g_y_old = crystal.group_index_y(wavelength)\n",
    "print(f\"New group index (y-axis): {n_g_y_new}\")\n",
    "print(f\"Old group index (y-axis): {n_g_y_old}\")\n",
    "print(f\"Difference: {abs(n_g_y_new - n_g_y_old):.6e}\")\n",
    "\n",
    "n_g_z_new = crystal.group_index(wavelength, \"KTP\", \"z\")\n",
    "n_g_z_old = crystal.group_index_z(wavelength)\n",
    "print(f\"New group index (z-axis): {n_g_z_new}\")\n",
    "print(f\"Old group index (z-axis): {n_g_z_old}\")\n",
    "print(f\"Difference: {abs(n_g_z_new - n_g_z_old):.6e}\")"
   ]
  },
  {
   "cell_type": "code",
   "execution_count": 2,
   "id": "b17e6f54",
   "metadata": {},
   "outputs": [
    {
     "name": "stdout",
     "output_type": "stream",
     "text": [
      "New Sellmeier coefficients (y-axis): {'A': 2.0993, 'B': 0.922683, 'C': 0.0467695, 'D': 0.0138408}\n"
     ]
    }
   ],
   "source": [
    "coeffs_y_new = materials_db.get_sellmeier_coefficients(\"KTP\", \"y\")\n",
    "print(\"New Sellmeier coefficients (y-axis):\", coeffs_y_new)\n",
    "\n",
    "# Extract Sellmeier coefficients\n",
    "A = coeffs_y_new[\"A\"]\n",
    "B = coeffs_y_new[\"B\"]\n",
    "C = coeffs_y_new[\"C\"]\n",
    "D = coeffs_y_new.get(\"D\", 0)\n",
    "E = coeffs_y_new.get(\"E\", 0)\n",
    "F = coeffs_y_new.get(\"F\", 0)"
   ]
  },
  {
   "cell_type": "code",
   "execution_count": 3,
   "id": "636e03f9",
   "metadata": {},
   "outputs": [
    {
     "name": "stdout",
     "output_type": "stream",
     "text": [
      "Sellmeier equation result: n^2 = 3.113738\n"
     ]
    }
   ],
   "source": [
    "n_squared = (\n",
    "            A\n",
    "            + B / (1 - C / wavelength**2)\n",
    "            + D / (1 - E / wavelength**2)\n",
    "            - F * wavelength**2\n",
    "        )\n",
    "\n",
    "print(f\"Sellmeier equation result: n^2 = {n_squared:.6f}\")"
   ]
  },
  {
   "cell_type": "code",
   "execution_count": 4,
   "id": "0f93bcb9",
   "metadata": {},
   "outputs": [
    {
     "name": "stdout",
     "output_type": "stream",
     "text": [
      "Old Sellmeier equation result: n^2 = 3.091584\n"
     ]
    }
   ],
   "source": [
    "ny2 = 2.09930 + (0.922683 / (1 - 0.0467695 / (wavelength ** 2))) - 0.0138408 * wavelength ** 2\n",
    "print(f\"Old Sellmeier equation result: n^2 = {ny2:.6f}\")"
   ]
  },
  {
   "cell_type": "code",
   "execution_count": null,
   "id": "56a2a745",
   "metadata": {},
   "outputs": [],
   "source": []
  }
 ],
 "metadata": {
  "kernelspec": {
   "display_name": "SPDC",
   "language": "python",
   "name": "python3"
  },
  "language_info": {
   "codemirror_mode": {
    "name": "ipython",
    "version": 3
   },
   "file_extension": ".py",
   "mimetype": "text/x-python",
   "name": "python",
   "nbconvert_exporter": "python",
   "pygments_lexer": "ipython3",
   "version": "3.12.4"
  }
 },
 "nbformat": 4,
 "nbformat_minor": 5
}
