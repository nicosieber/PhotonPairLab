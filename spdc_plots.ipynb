{
 "cells": [
  {
   "cell_type": "markdown",
   "metadata": {},
   "source": [
    "### Imports"
   ]
  },
  {
   "cell_type": "code",
   "execution_count": null,
   "metadata": {},
   "outputs": [],
   "source": [
    "from SPDC_Simulation import SPDC_Simulation\n",
    "from Crystal import Crystal\n",
    "from Laser import Laser\n",
    "from Materials import KTP1, KTP2, KTP3"
   ]
  },
  {
   "cell_type": "markdown",
   "metadata": {},
   "source": [
    "### Run the simulation"
   ]
  },
  {
   "cell_type": "code",
   "execution_count": null,
   "metadata": {},
   "outputs": [],
   "source": [
    "# Initialize crystal parameters\n",
    "Lc = 46.175e-6                # Coherence length (in meters)\n",
    "Lo = 30e-3                    # Crystal length (in meters)\n",
    "T = 22.15                     # Temperature (in degrees Celsius)\n",
    "w = 18e-6                     # Domain width parameter (in meters)\n",
    "\n",
    "material = KTP1()\n",
    "crystal = Crystal(Lc, Lo, T, w, material, spdc=\"type-II\")\n",
    "\n",
    "# Initialize laser parameters\n",
    "lambda_2w = 775e-9            # Central wavelength of the pump (in meters)\n",
    "pulse_duration = 1.7e-12      # Pulse duration (in seconds)\n",
    "laser = Laser(lambda_2w, pulse_duration)\n",
    "\n",
    "# Generate the poling pattern in the crystal\n",
    "crystal.generate_poling(laser=laser, mode='periodic', resolution=5)\n",
    "\n",
    "# Create and run the simulation\n",
    "simulation = SPDC_Simulation(crystal, laser)\n",
    "\n",
    "simulation.run_simulation(steps=100, dev=5)\n",
    "print(f'The simulated purity is P={simulation.Purity}')\n",
    "print(f'The simulated Schmidt number K={simulation.K}')"
   ]
  },
  {
   "cell_type": "markdown",
   "metadata": {},
   "source": [
    "### Plot the results"
   ]
  },
  {
   "cell_type": "code",
   "execution_count": null,
   "metadata": {},
   "outputs": [],
   "source": [
    "simulation.plot_jsa()"
   ]
  },
  {
   "cell_type": "code",
   "execution_count": null,
   "metadata": {},
   "outputs": [],
   "source": [
    "simulation.plot_schmidt_coefficients()"
   ]
  }
 ],
 "metadata": {
  "kernelspec": {
   "display_name": "SPDC",
   "language": "python",
   "name": "python3"
  },
  "language_info": {
   "codemirror_mode": {
    "name": "ipython",
    "version": 3
   },
   "file_extension": ".py",
   "mimetype": "text/x-python",
   "name": "python",
   "nbconvert_exporter": "python",
   "pygments_lexer": "ipython3",
   "version": "3.12.4"
  }
 },
 "nbformat": 4,
 "nbformat_minor": 2
}
